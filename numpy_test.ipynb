{
 "metadata": {
  "language_info": {
   "codemirror_mode": {
    "name": "ipython",
    "version": 3
   },
   "file_extension": ".py",
   "mimetype": "text/x-python",
   "name": "python",
   "nbconvert_exporter": "python",
   "pygments_lexer": "ipython3",
   "version": "3.8.1-final"
  },
  "orig_nbformat": 2,
  "kernelspec": {
   "name": "python3",
   "display_name": "Python 3.8.1 64-bit",
   "metadata": {
    "interpreter": {
     "hash": "004de6046f1b3d314f33fdb43a2dc798b2646e5600efd8df5066c8b63a00ff6d"
    }
   }
  }
 },
 "nbformat": 4,
 "nbformat_minor": 2,
 "cells": [
  {
   "cell_type": "code",
   "execution_count": 30,
   "metadata": {},
   "outputs": [],
   "source": [
    "import pandas as pds\n"
   ]
  },
  {
   "cell_type": "code",
   "execution_count": 61,
   "metadata": {},
   "outputs": [
    {
     "output_type": "execute_result",
     "data": {
      "text/plain": [
       "                 小区地址  用户号码          IMEI          IMSI  CGI     小区编号     对方号码  位置区代码  ACCOUNT  地址  ...  事件状态  信件标题  终端类型  页面主题  URI URL地址  用户名  主被叫标志  位置  短信内容\n",
       "0      信阳罗山县鸿禧小区       151  8.697140e+09  4.600234e+10  NaN  193984401.0                  14556.0      NaN   NaN  ...       NaN       NaN       NaN       NaN  NaN     NaN     NaN         NaN   NaN       NaN\n",
       "1            罗山西亚超市       151  8.697140e+09  4.600234e+10  NaN  194005580.0                  14556.0      NaN   NaN  ...       NaN       NaN       NaN       NaN  NaN     NaN     NaN         NaN   NaN       NaN\n",
       "2                    未知       151           NaN           NaN  NaN          NaN     10658112         NaN      NaN   NaN  ...       NaN       NaN       NaN       NaN  NaN     NaN     NaN         NaN   NaN       NaN\n",
       "3                    未知       151           NaN           NaN  NaN          NaN     10658112         NaN      NaN   NaN  ...       NaN       NaN       NaN       NaN  NaN     NaN     NaN         NaN   NaN       NaN\n",
       "4                    未知       151           NaN           NaN  NaN          NaN     10658112         NaN      NaN   NaN  ...       NaN       NaN       NaN       NaN  NaN     NaN     NaN         NaN   NaN       NaN\n",
       "...                   ...       ...           ...           ...  ...          ...          ...         ...      ...   ...  ...       ...       ...       ...       ...  ...     ...     ...         ...   ...       ...\n",
       "16106  信阳新县苏河鸡冠石       151  8.697140e+09  4.600234e+10  NaN   67314565.0                  14238.0      NaN   NaN  ...       NaN       NaN       NaN       NaN  NaN     NaN     NaN         NaN   NaN       NaN\n",
       "16107  新县苏河镇鸡冠石村       151  8.697140e+09  4.600234e+10  NaN      43296.0                  14238.0      NaN   NaN  ...       NaN       NaN       NaN       NaN  NaN     NaN     NaN         NaN   NaN       NaN\n",
       "16108  信阳新县苏河鸡冠石       151  8.697140e+09  4.600234e+10  NaN   67314565.0                  14238.0      NaN   NaN  ...       NaN       NaN       NaN       NaN  NaN     NaN     NaN         NaN   NaN       NaN\n",
       "16109                未知       151           NaN           NaN  NaN          NaN  13937670770         NaN      NaN   NaN  ...       NaN       NaN       NaN       NaN  NaN     NaN     NaN         NaN   NaN       NaN\n",
       "16110  信阳新县苏河鸡冠石       151  8.697140e+09  4.600234e+10  NaN   67314565.0                  14238.0      NaN   NaN  ...       NaN       NaN       NaN       NaN  NaN     NaN     NaN         NaN   NaN       NaN\n",
       "\n",
       "[16111 rows x 105 columns]"
      ],
      "text/html": "<div>\n<style scoped>\n    .dataframe tbody tr th:only-of-type {\n        vertical-align: middle;\n    }\n\n    .dataframe tbody tr th {\n        vertical-align: top;\n    }\n\n    .dataframe thead th {\n        text-align: right;\n    }\n</style>\n<table border=\"1\" class=\"dataframe\">\n  <thead>\n    <tr style=\"text-align: right;\">\n      <th></th>\n      <th>小区地址</th>\n      <th>用户号码</th>\n      <th>IMEI</th>\n      <th>IMSI</th>\n      <th>CGI</th>\n      <th>小区编号</th>\n      <th>对方号码</th>\n      <th>位置区代码</th>\n      <th>ACCOUNT</th>\n      <th>地址</th>\n      <th>...</th>\n      <th>事件状态</th>\n      <th>信件标题</th>\n      <th>终端类型</th>\n      <th>页面主题</th>\n      <th>URI</th>\n      <th>URL地址</th>\n      <th>用户名</th>\n      <th>主被叫标志</th>\n      <th>位置</th>\n      <th>短信内容</th>\n    </tr>\n  </thead>\n  <tbody>\n    <tr>\n      <th>0</th>\n      <td>信阳罗山县鸿禧小区</td>\n      <td>151</td>\n      <td>8.697140e+09</td>\n      <td>4.600234e+10</td>\n      <td>NaN</td>\n      <td>193984401.0</td>\n      <td></td>\n      <td>14556.0</td>\n      <td>NaN</td>\n      <td>NaN</td>\n      <td>...</td>\n      <td>NaN</td>\n      <td>NaN</td>\n      <td>NaN</td>\n      <td>NaN</td>\n      <td>NaN</td>\n      <td>NaN</td>\n      <td>NaN</td>\n      <td>NaN</td>\n      <td>NaN</td>\n      <td>NaN</td>\n    </tr>\n    <tr>\n      <th>1</th>\n      <td>罗山西亚超市</td>\n      <td>151</td>\n      <td>8.697140e+09</td>\n      <td>4.600234e+10</td>\n      <td>NaN</td>\n      <td>194005580.0</td>\n      <td></td>\n      <td>14556.0</td>\n      <td>NaN</td>\n      <td>NaN</td>\n      <td>...</td>\n      <td>NaN</td>\n      <td>NaN</td>\n      <td>NaN</td>\n      <td>NaN</td>\n      <td>NaN</td>\n      <td>NaN</td>\n      <td>NaN</td>\n      <td>NaN</td>\n      <td>NaN</td>\n      <td>NaN</td>\n    </tr>\n    <tr>\n      <th>2</th>\n      <td>未知</td>\n      <td>151</td>\n      <td>NaN</td>\n      <td>NaN</td>\n      <td>NaN</td>\n      <td>NaN</td>\n      <td>10658112</td>\n      <td>NaN</td>\n      <td>NaN</td>\n      <td>NaN</td>\n      <td>...</td>\n      <td>NaN</td>\n      <td>NaN</td>\n      <td>NaN</td>\n      <td>NaN</td>\n      <td>NaN</td>\n      <td>NaN</td>\n      <td>NaN</td>\n      <td>NaN</td>\n      <td>NaN</td>\n      <td>NaN</td>\n    </tr>\n    <tr>\n      <th>3</th>\n      <td>未知</td>\n      <td>151</td>\n      <td>NaN</td>\n      <td>NaN</td>\n      <td>NaN</td>\n      <td>NaN</td>\n      <td>10658112</td>\n      <td>NaN</td>\n      <td>NaN</td>\n      <td>NaN</td>\n      <td>...</td>\n      <td>NaN</td>\n      <td>NaN</td>\n      <td>NaN</td>\n      <td>NaN</td>\n      <td>NaN</td>\n      <td>NaN</td>\n      <td>NaN</td>\n      <td>NaN</td>\n      <td>NaN</td>\n      <td>NaN</td>\n    </tr>\n    <tr>\n      <th>4</th>\n      <td>未知</td>\n      <td>151</td>\n      <td>NaN</td>\n      <td>NaN</td>\n      <td>NaN</td>\n      <td>NaN</td>\n      <td>10658112</td>\n      <td>NaN</td>\n      <td>NaN</td>\n      <td>NaN</td>\n      <td>...</td>\n      <td>NaN</td>\n      <td>NaN</td>\n      <td>NaN</td>\n      <td>NaN</td>\n      <td>NaN</td>\n      <td>NaN</td>\n      <td>NaN</td>\n      <td>NaN</td>\n      <td>NaN</td>\n      <td>NaN</td>\n    </tr>\n    <tr>\n      <th>...</th>\n      <td>...</td>\n      <td>...</td>\n      <td>...</td>\n      <td>...</td>\n      <td>...</td>\n      <td>...</td>\n      <td>...</td>\n      <td>...</td>\n      <td>...</td>\n      <td>...</td>\n      <td>...</td>\n      <td>...</td>\n      <td>...</td>\n      <td>...</td>\n      <td>...</td>\n      <td>...</td>\n      <td>...</td>\n      <td>...</td>\n      <td>...</td>\n      <td>...</td>\n      <td>...</td>\n    </tr>\n    <tr>\n      <th>16106</th>\n      <td>信阳新县苏河鸡冠石</td>\n      <td>151</td>\n      <td>8.697140e+09</td>\n      <td>4.600234e+10</td>\n      <td>NaN</td>\n      <td>67314565.0</td>\n      <td></td>\n      <td>14238.0</td>\n      <td>NaN</td>\n      <td>NaN</td>\n      <td>...</td>\n      <td>NaN</td>\n      <td>NaN</td>\n      <td>NaN</td>\n      <td>NaN</td>\n      <td>NaN</td>\n      <td>NaN</td>\n      <td>NaN</td>\n      <td>NaN</td>\n      <td>NaN</td>\n      <td>NaN</td>\n    </tr>\n    <tr>\n      <th>16107</th>\n      <td>新县苏河镇鸡冠石村</td>\n      <td>151</td>\n      <td>8.697140e+09</td>\n      <td>4.600234e+10</td>\n      <td>NaN</td>\n      <td>43296.0</td>\n      <td></td>\n      <td>14238.0</td>\n      <td>NaN</td>\n      <td>NaN</td>\n      <td>...</td>\n      <td>NaN</td>\n      <td>NaN</td>\n      <td>NaN</td>\n      <td>NaN</td>\n      <td>NaN</td>\n      <td>NaN</td>\n      <td>NaN</td>\n      <td>NaN</td>\n      <td>NaN</td>\n      <td>NaN</td>\n    </tr>\n    <tr>\n      <th>16108</th>\n      <td>信阳新县苏河鸡冠石</td>\n      <td>151</td>\n      <td>8.697140e+09</td>\n      <td>4.600234e+10</td>\n      <td>NaN</td>\n      <td>67314565.0</td>\n      <td></td>\n      <td>14238.0</td>\n      <td>NaN</td>\n      <td>NaN</td>\n      <td>...</td>\n      <td>NaN</td>\n      <td>NaN</td>\n      <td>NaN</td>\n      <td>NaN</td>\n      <td>NaN</td>\n      <td>NaN</td>\n      <td>NaN</td>\n      <td>NaN</td>\n      <td>NaN</td>\n      <td>NaN</td>\n    </tr>\n    <tr>\n      <th>16109</th>\n      <td>未知</td>\n      <td>151</td>\n      <td>NaN</td>\n      <td>NaN</td>\n      <td>NaN</td>\n      <td>NaN</td>\n      <td>13937670770</td>\n      <td>NaN</td>\n      <td>NaN</td>\n      <td>NaN</td>\n      <td>...</td>\n      <td>NaN</td>\n      <td>NaN</td>\n      <td>NaN</td>\n      <td>NaN</td>\n      <td>NaN</td>\n      <td>NaN</td>\n      <td>NaN</td>\n      <td>NaN</td>\n      <td>NaN</td>\n      <td>NaN</td>\n    </tr>\n    <tr>\n      <th>16110</th>\n      <td>信阳新县苏河鸡冠石</td>\n      <td>151</td>\n      <td>8.697140e+09</td>\n      <td>4.600234e+10</td>\n      <td>NaN</td>\n      <td>67314565.0</td>\n      <td></td>\n      <td>14238.0</td>\n      <td>NaN</td>\n      <td>NaN</td>\n      <td>...</td>\n      <td>NaN</td>\n      <td>NaN</td>\n      <td>NaN</td>\n      <td>NaN</td>\n      <td>NaN</td>\n      <td>NaN</td>\n      <td>NaN</td>\n      <td>NaN</td>\n      <td>NaN</td>\n      <td>NaN</td>\n    </tr>\n  </tbody>\n</table>\n<p>16111 rows × 105 columns</p>\n</div>"
     },
     "metadata": {},
     "execution_count": 61
    }
   ],
   "source": [
    "xls = pds.read_excel(r'F:\\code\\456.xls',sheet_name='1')\n",
    "pds.set_option('display.unicode.ambiguous_as_wide', True)\n",
    "pds.set_option('display.unicode.east_asian_width', True)\n",
    "pds.set_option('display.width', 220) # 设置打印宽度(**重要**)\n",
    "# xls.columns=['adress','phone','IMEI','IMSI','area','another','area-code','time','duration','type','longitude','latitude']\n",
    "# xls.columns\n",
    "# xls.index\n",
    "xls.shape\n",
    "xls"
   ]
  },
  {
   "cell_type": "code",
   "execution_count": 63,
   "metadata": {},
   "outputs": [
    {
     "output_type": "execute_result",
     "data": {
      "text/plain": [
       "                 小区地址  用户号码          IMEI          IMSI     小区编号 对方号码  位置区代码             开始时间  通话时长         呼叫类型    基站经度   基站纬度\n",
       "0      信阳罗山县鸿禧小区       151  8.697140e+09  4.600234e+10  193984401.0              14556.0  2020-06-29 16:08:04     725.0  GPRS/CDMA1X上网  114.513420  32.202148\n",
       "1            罗山西亚超市       151  8.697140e+09  4.600234e+10  194005580.0              14556.0  2020-06-29 15:38:01       3.0  GPRS/CDMA1X上网  114.508850  32.204571\n",
       "18           罗山新交警队       151  8.697140e+09  4.600234e+10  193814912.0              14556.0  2020-06-20 23:02:15       7.0  GPRS/CDMA1X上网  114.488586  32.198490\n",
       "19           罗山新交警队       151  8.697140e+09  4.600234e+10  250373452.0              14556.0  2020-06-20 22:28:54    1800.0  GPRS/CDMA1X上网  114.488586  32.198490\n",
       "20           罗山新交警队       151  8.697140e+09  4.600234e+10  250373452.0              14556.0  2020-06-20 20:13:56     892.0  GPRS/CDMA1X上网  114.488586  32.198490\n",
       "...                   ...       ...           ...           ...          ...      ...         ...                  ...       ...              ...         ...        ...\n",
       "16105  新县苏河镇鸡冠石村       151  8.697140e+09  4.600234e+10      43296.0              14238.0  2020-04-01 00:55:33     268.0  GPRS/CDMA1X上网  114.608009  31.717710\n",
       "16106  信阳新县苏河鸡冠石       151  8.697140e+09  4.600234e+10   67314565.0              14238.0  2020-04-01 00:52:22     191.0  GPRS/CDMA1X上网  114.605827  31.716110\n",
       "16107  新县苏河镇鸡冠石村       151  8.697140e+09  4.600234e+10      43296.0              14238.0  2020-04-01 00:50:26      83.0  GPRS/CDMA1X上网  114.608009  31.717710\n",
       "16108  信阳新县苏河鸡冠石       151  8.697140e+09  4.600234e+10   67314565.0              14238.0  2020-04-01 00:31:40    1126.0  GPRS/CDMA1X上网  114.605827  31.716110\n",
       "16110  信阳新县苏河鸡冠石       151  8.697140e+09  4.600234e+10   67314565.0              14238.0  2020-04-01 00:01:40    1800.0  GPRS/CDMA1X上网  114.605827  31.716110\n",
       "\n",
       "[15564 rows x 12 columns]"
      ],
      "text/html": "<div>\n<style scoped>\n    .dataframe tbody tr th:only-of-type {\n        vertical-align: middle;\n    }\n\n    .dataframe tbody tr th {\n        vertical-align: top;\n    }\n\n    .dataframe thead th {\n        text-align: right;\n    }\n</style>\n<table border=\"1\" class=\"dataframe\">\n  <thead>\n    <tr style=\"text-align: right;\">\n      <th></th>\n      <th>小区地址</th>\n      <th>用户号码</th>\n      <th>IMEI</th>\n      <th>IMSI</th>\n      <th>小区编号</th>\n      <th>对方号码</th>\n      <th>位置区代码</th>\n      <th>开始时间</th>\n      <th>通话时长</th>\n      <th>呼叫类型</th>\n      <th>基站经度</th>\n      <th>基站纬度</th>\n    </tr>\n  </thead>\n  <tbody>\n    <tr>\n      <th>0</th>\n      <td>信阳罗山县鸿禧小区</td>\n      <td>151</td>\n      <td>8.697140e+09</td>\n      <td>4.600234e+10</td>\n      <td>193984401.0</td>\n      <td></td>\n      <td>14556.0</td>\n      <td>2020-06-29 16:08:04</td>\n      <td>725.0</td>\n      <td>GPRS/CDMA1X上网</td>\n      <td>114.513420</td>\n      <td>32.202148</td>\n    </tr>\n    <tr>\n      <th>1</th>\n      <td>罗山西亚超市</td>\n      <td>151</td>\n      <td>8.697140e+09</td>\n      <td>4.600234e+10</td>\n      <td>194005580.0</td>\n      <td></td>\n      <td>14556.0</td>\n      <td>2020-06-29 15:38:01</td>\n      <td>3.0</td>\n      <td>GPRS/CDMA1X上网</td>\n      <td>114.508850</td>\n      <td>32.204571</td>\n    </tr>\n    <tr>\n      <th>18</th>\n      <td>罗山新交警队</td>\n      <td>151</td>\n      <td>8.697140e+09</td>\n      <td>4.600234e+10</td>\n      <td>193814912.0</td>\n      <td></td>\n      <td>14556.0</td>\n      <td>2020-06-20 23:02:15</td>\n      <td>7.0</td>\n      <td>GPRS/CDMA1X上网</td>\n      <td>114.488586</td>\n      <td>32.198490</td>\n    </tr>\n    <tr>\n      <th>19</th>\n      <td>罗山新交警队</td>\n      <td>151</td>\n      <td>8.697140e+09</td>\n      <td>4.600234e+10</td>\n      <td>250373452.0</td>\n      <td></td>\n      <td>14556.0</td>\n      <td>2020-06-20 22:28:54</td>\n      <td>1800.0</td>\n      <td>GPRS/CDMA1X上网</td>\n      <td>114.488586</td>\n      <td>32.198490</td>\n    </tr>\n    <tr>\n      <th>20</th>\n      <td>罗山新交警队</td>\n      <td>151</td>\n      <td>8.697140e+09</td>\n      <td>4.600234e+10</td>\n      <td>250373452.0</td>\n      <td></td>\n      <td>14556.0</td>\n      <td>2020-06-20 20:13:56</td>\n      <td>892.0</td>\n      <td>GPRS/CDMA1X上网</td>\n      <td>114.488586</td>\n      <td>32.198490</td>\n    </tr>\n    <tr>\n      <th>...</th>\n      <td>...</td>\n      <td>...</td>\n      <td>...</td>\n      <td>...</td>\n      <td>...</td>\n      <td>...</td>\n      <td>...</td>\n      <td>...</td>\n      <td>...</td>\n      <td>...</td>\n      <td>...</td>\n      <td>...</td>\n    </tr>\n    <tr>\n      <th>16105</th>\n      <td>新县苏河镇鸡冠石村</td>\n      <td>151</td>\n      <td>8.697140e+09</td>\n      <td>4.600234e+10</td>\n      <td>43296.0</td>\n      <td></td>\n      <td>14238.0</td>\n      <td>2020-04-01 00:55:33</td>\n      <td>268.0</td>\n      <td>GPRS/CDMA1X上网</td>\n      <td>114.608009</td>\n      <td>31.717710</td>\n    </tr>\n    <tr>\n      <th>16106</th>\n      <td>信阳新县苏河鸡冠石</td>\n      <td>151</td>\n      <td>8.697140e+09</td>\n      <td>4.600234e+10</td>\n      <td>67314565.0</td>\n      <td></td>\n      <td>14238.0</td>\n      <td>2020-04-01 00:52:22</td>\n      <td>191.0</td>\n      <td>GPRS/CDMA1X上网</td>\n      <td>114.605827</td>\n      <td>31.716110</td>\n    </tr>\n    <tr>\n      <th>16107</th>\n      <td>新县苏河镇鸡冠石村</td>\n      <td>151</td>\n      <td>8.697140e+09</td>\n      <td>4.600234e+10</td>\n      <td>43296.0</td>\n      <td></td>\n      <td>14238.0</td>\n      <td>2020-04-01 00:50:26</td>\n      <td>83.0</td>\n      <td>GPRS/CDMA1X上网</td>\n      <td>114.608009</td>\n      <td>31.717710</td>\n    </tr>\n    <tr>\n      <th>16108</th>\n      <td>信阳新县苏河鸡冠石</td>\n      <td>151</td>\n      <td>8.697140e+09</td>\n      <td>4.600234e+10</td>\n      <td>67314565.0</td>\n      <td></td>\n      <td>14238.0</td>\n      <td>2020-04-01 00:31:40</td>\n      <td>1126.0</td>\n      <td>GPRS/CDMA1X上网</td>\n      <td>114.605827</td>\n      <td>31.716110</td>\n    </tr>\n    <tr>\n      <th>16110</th>\n      <td>信阳新县苏河鸡冠石</td>\n      <td>151</td>\n      <td>8.697140e+09</td>\n      <td>4.600234e+10</td>\n      <td>67314565.0</td>\n      <td></td>\n      <td>14238.0</td>\n      <td>2020-04-01 00:01:40</td>\n      <td>1800.0</td>\n      <td>GPRS/CDMA1X上网</td>\n      <td>114.605827</td>\n      <td>31.716110</td>\n    </tr>\n  </tbody>\n</table>\n<p>15564 rows × 12 columns</p>\n</div>"
     },
     "metadata": {},
     "execution_count": 63
    }
   ],
   "source": [
    "xls = xls[['小区地址','用户号码','IMEI','IMSI','小区编号','对方号码','位置区代码','开始时间','通话时长','呼叫类型','基站经度','基站纬度']]\n",
    "new_date = xls.dropna(subset=['小区编号'])\n",
    "new_date"
   ]
  },
  {
   "cell_type": "code",
   "execution_count": 64,
   "metadata": {},
   "outputs": [],
   "source": [
    "import numpy as np"
   ]
  },
  {
   "cell_type": "code",
   "execution_count": 70,
   "metadata": {},
   "outputs": [
    {
     "output_type": "execute_result",
     "data": {
      "text/plain": [
       "                 小区地址  用户号码          IMEI          IMSI     小区编号 对方号码  位置区代码             开始时间  通话时长         呼叫类型    基站经度   基站纬度\n",
       "1      信阳罗山县鸿禧小区       151  8.697140e+09  4.600234e+10  193984401.0              14556.0  2020-06-29 16:08:04     725.0  GPRS/CDMA1X上网  114.513420  32.202148\n",
       "2            罗山西亚超市       151  8.697140e+09  4.600234e+10  194005580.0              14556.0  2020-06-29 15:38:01       3.0  GPRS/CDMA1X上网  114.508850  32.204571\n",
       "3            罗山新交警队       151  8.697140e+09  4.600234e+10  193814912.0              14556.0  2020-06-20 23:02:15       7.0  GPRS/CDMA1X上网  114.488586  32.198490\n",
       "4            罗山新交警队       151  8.697140e+09  4.600234e+10  250373452.0              14556.0  2020-06-20 22:28:54    1800.0  GPRS/CDMA1X上网  114.488586  32.198490\n",
       "5            罗山新交警队       151  8.697140e+09  4.600234e+10  250373452.0              14556.0  2020-06-20 20:13:56     892.0  GPRS/CDMA1X上网  114.488586  32.198490\n",
       "...                   ...       ...           ...           ...          ...      ...         ...                  ...       ...              ...         ...        ...\n",
       "15560  新县苏河镇鸡冠石村       151  8.697140e+09  4.600234e+10      43296.0              14238.0  2020-04-01 00:55:33     268.0  GPRS/CDMA1X上网  114.608009  31.717710\n",
       "15561  信阳新县苏河鸡冠石       151  8.697140e+09  4.600234e+10   67314565.0              14238.0  2020-04-01 00:52:22     191.0  GPRS/CDMA1X上网  114.605827  31.716110\n",
       "15562  新县苏河镇鸡冠石村       151  8.697140e+09  4.600234e+10      43296.0              14238.0  2020-04-01 00:50:26      83.0  GPRS/CDMA1X上网  114.608009  31.717710\n",
       "15563  信阳新县苏河鸡冠石       151  8.697140e+09  4.600234e+10   67314565.0              14238.0  2020-04-01 00:31:40    1126.0  GPRS/CDMA1X上网  114.605827  31.716110\n",
       "15564  信阳新县苏河鸡冠石       151  8.697140e+09  4.600234e+10   67314565.0              14238.0  2020-04-01 00:01:40    1800.0  GPRS/CDMA1X上网  114.605827  31.716110\n",
       "\n",
       "[15564 rows x 12 columns]"
      ],
      "text/html": "<div>\n<style scoped>\n    .dataframe tbody tr th:only-of-type {\n        vertical-align: middle;\n    }\n\n    .dataframe tbody tr th {\n        vertical-align: top;\n    }\n\n    .dataframe thead th {\n        text-align: right;\n    }\n</style>\n<table border=\"1\" class=\"dataframe\">\n  <thead>\n    <tr style=\"text-align: right;\">\n      <th></th>\n      <th>小区地址</th>\n      <th>用户号码</th>\n      <th>IMEI</th>\n      <th>IMSI</th>\n      <th>小区编号</th>\n      <th>对方号码</th>\n      <th>位置区代码</th>\n      <th>开始时间</th>\n      <th>通话时长</th>\n      <th>呼叫类型</th>\n      <th>基站经度</th>\n      <th>基站纬度</th>\n    </tr>\n  </thead>\n  <tbody>\n    <tr>\n      <th>1</th>\n      <td>信阳罗山县鸿禧小区</td>\n      <td>151</td>\n      <td>8.697140e+09</td>\n      <td>4.600234e+10</td>\n      <td>193984401.0</td>\n      <td></td>\n      <td>14556.0</td>\n      <td>2020-06-29 16:08:04</td>\n      <td>725.0</td>\n      <td>GPRS/CDMA1X上网</td>\n      <td>114.513420</td>\n      <td>32.202148</td>\n    </tr>\n    <tr>\n      <th>2</th>\n      <td>罗山西亚超市</td>\n      <td>151</td>\n      <td>8.697140e+09</td>\n      <td>4.600234e+10</td>\n      <td>194005580.0</td>\n      <td></td>\n      <td>14556.0</td>\n      <td>2020-06-29 15:38:01</td>\n      <td>3.0</td>\n      <td>GPRS/CDMA1X上网</td>\n      <td>114.508850</td>\n      <td>32.204571</td>\n    </tr>\n    <tr>\n      <th>3</th>\n      <td>罗山新交警队</td>\n      <td>151</td>\n      <td>8.697140e+09</td>\n      <td>4.600234e+10</td>\n      <td>193814912.0</td>\n      <td></td>\n      <td>14556.0</td>\n      <td>2020-06-20 23:02:15</td>\n      <td>7.0</td>\n      <td>GPRS/CDMA1X上网</td>\n      <td>114.488586</td>\n      <td>32.198490</td>\n    </tr>\n    <tr>\n      <th>4</th>\n      <td>罗山新交警队</td>\n      <td>151</td>\n      <td>8.697140e+09</td>\n      <td>4.600234e+10</td>\n      <td>250373452.0</td>\n      <td></td>\n      <td>14556.0</td>\n      <td>2020-06-20 22:28:54</td>\n      <td>1800.0</td>\n      <td>GPRS/CDMA1X上网</td>\n      <td>114.488586</td>\n      <td>32.198490</td>\n    </tr>\n    <tr>\n      <th>5</th>\n      <td>罗山新交警队</td>\n      <td>151</td>\n      <td>8.697140e+09</td>\n      <td>4.600234e+10</td>\n      <td>250373452.0</td>\n      <td></td>\n      <td>14556.0</td>\n      <td>2020-06-20 20:13:56</td>\n      <td>892.0</td>\n      <td>GPRS/CDMA1X上网</td>\n      <td>114.488586</td>\n      <td>32.198490</td>\n    </tr>\n    <tr>\n      <th>...</th>\n      <td>...</td>\n      <td>...</td>\n      <td>...</td>\n      <td>...</td>\n      <td>...</td>\n      <td>...</td>\n      <td>...</td>\n      <td>...</td>\n      <td>...</td>\n      <td>...</td>\n      <td>...</td>\n      <td>...</td>\n    </tr>\n    <tr>\n      <th>15560</th>\n      <td>新县苏河镇鸡冠石村</td>\n      <td>151</td>\n      <td>8.697140e+09</td>\n      <td>4.600234e+10</td>\n      <td>43296.0</td>\n      <td></td>\n      <td>14238.0</td>\n      <td>2020-04-01 00:55:33</td>\n      <td>268.0</td>\n      <td>GPRS/CDMA1X上网</td>\n      <td>114.608009</td>\n      <td>31.717710</td>\n    </tr>\n    <tr>\n      <th>15561</th>\n      <td>信阳新县苏河鸡冠石</td>\n      <td>151</td>\n      <td>8.697140e+09</td>\n      <td>4.600234e+10</td>\n      <td>67314565.0</td>\n      <td></td>\n      <td>14238.0</td>\n      <td>2020-04-01 00:52:22</td>\n      <td>191.0</td>\n      <td>GPRS/CDMA1X上网</td>\n      <td>114.605827</td>\n      <td>31.716110</td>\n    </tr>\n    <tr>\n      <th>15562</th>\n      <td>新县苏河镇鸡冠石村</td>\n      <td>151</td>\n      <td>8.697140e+09</td>\n      <td>4.600234e+10</td>\n      <td>43296.0</td>\n      <td></td>\n      <td>14238.0</td>\n      <td>2020-04-01 00:50:26</td>\n      <td>83.0</td>\n      <td>GPRS/CDMA1X上网</td>\n      <td>114.608009</td>\n      <td>31.717710</td>\n    </tr>\n    <tr>\n      <th>15563</th>\n      <td>信阳新县苏河鸡冠石</td>\n      <td>151</td>\n      <td>8.697140e+09</td>\n      <td>4.600234e+10</td>\n      <td>67314565.0</td>\n      <td></td>\n      <td>14238.0</td>\n      <td>2020-04-01 00:31:40</td>\n      <td>1126.0</td>\n      <td>GPRS/CDMA1X上网</td>\n      <td>114.605827</td>\n      <td>31.716110</td>\n    </tr>\n    <tr>\n      <th>15564</th>\n      <td>信阳新县苏河鸡冠石</td>\n      <td>151</td>\n      <td>8.697140e+09</td>\n      <td>4.600234e+10</td>\n      <td>67314565.0</td>\n      <td></td>\n      <td>14238.0</td>\n      <td>2020-04-01 00:01:40</td>\n      <td>1800.0</td>\n      <td>GPRS/CDMA1X上网</td>\n      <td>114.605827</td>\n      <td>31.716110</td>\n    </tr>\n  </tbody>\n</table>\n<p>15564 rows × 12 columns</p>\n</div>"
     },
     "metadata": {},
     "execution_count": 70
    }
   ],
   "source": [
    "new_date.index = np.arange(1,15565)\n",
    "new_date"
   ]
  },
  {
   "cell_type": "code",
   "execution_count": 73,
   "metadata": {},
   "outputs": [
    {
     "output_type": "execute_result",
     "data": {
      "text/plain": [
       "小区地址       object\n",
       "用户号码        int64\n",
       "IMEI          float64\n",
       "IMSI          float64\n",
       "小区编号        int32\n",
       "对方号码       object\n",
       "位置区代码    float64\n",
       "开始时间       object\n",
       "通话时长      float64\n",
       "呼叫类型       object\n",
       "基站经度      float64\n",
       "基站纬度      float64\n",
       "dtype: object"
      ]
     },
     "metadata": {},
     "execution_count": 73
    }
   ],
   "source": [
    "new_date.astype({'小区编号':'int'}).dtypes"
   ]
  },
  {
   "cell_type": "code",
   "execution_count": null,
   "metadata": {},
   "outputs": [],
   "source": [
    "new_date"
   ]
  },
  {
   "cell_type": "code",
   "execution_count": 72,
   "metadata": {},
   "outputs": [],
   "source": [
    "new_date.to_excel(r'F:\\code\\pandas_test.xlsx',sheet_name='Sheet1')"
   ]
  }
 ]
}